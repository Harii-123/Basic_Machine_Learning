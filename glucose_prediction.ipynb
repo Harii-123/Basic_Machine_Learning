{
 "cells": [
  {
   "cell_type": "markdown",
   "id": "86553140",
   "metadata": {},
   "source": [
    "# Linear Regression Using Glucose Prediction Dataset "
   ]
  },
  {
   "cell_type": "markdown",
   "id": "b11b2079",
   "metadata": {},
   "source": [
    "## Importing Libraries"
   ]
  },
  {
   "cell_type": "code",
   "execution_count": 1,
   "id": "3bdc15f4",
   "metadata": {},
   "outputs": [],
   "source": [
    "import pandas as pd\n",
    "import numpy as np\n",
    "import matplotlib.pyplot as plt"
   ]
  },
  {
   "cell_type": "markdown",
   "id": "884e583e",
   "metadata": {},
   "source": [
    "## Importing Datasets"
   ]
  },
  {
   "cell_type": "code",
   "execution_count": 2,
   "id": "a8cb7d5b",
   "metadata": {},
   "outputs": [
    {
     "data": {
      "text/html": [
       "<div>\n",
       "<style scoped>\n",
       "    .dataframe tbody tr th:only-of-type {\n",
       "        vertical-align: middle;\n",
       "    }\n",
       "\n",
       "    .dataframe tbody tr th {\n",
       "        vertical-align: top;\n",
       "    }\n",
       "\n",
       "    .dataframe thead th {\n",
       "        text-align: right;\n",
       "    }\n",
       "</style>\n",
       "<table border=\"1\" class=\"dataframe\">\n",
       "  <thead>\n",
       "    <tr style=\"text-align: right;\">\n",
       "      <th></th>\n",
       "      <th>subject</th>\n",
       "      <th>age</th>\n",
       "      <th>glucose_level</th>\n",
       "    </tr>\n",
       "  </thead>\n",
       "  <tbody>\n",
       "    <tr>\n",
       "      <th>0</th>\n",
       "      <td>1</td>\n",
       "      <td>43</td>\n",
       "      <td>99</td>\n",
       "    </tr>\n",
       "    <tr>\n",
       "      <th>1</th>\n",
       "      <td>2</td>\n",
       "      <td>21</td>\n",
       "      <td>65</td>\n",
       "    </tr>\n",
       "    <tr>\n",
       "      <th>2</th>\n",
       "      <td>3</td>\n",
       "      <td>25</td>\n",
       "      <td>79</td>\n",
       "    </tr>\n",
       "    <tr>\n",
       "      <th>3</th>\n",
       "      <td>4</td>\n",
       "      <td>42</td>\n",
       "      <td>75</td>\n",
       "    </tr>\n",
       "    <tr>\n",
       "      <th>4</th>\n",
       "      <td>5</td>\n",
       "      <td>57</td>\n",
       "      <td>87</td>\n",
       "    </tr>\n",
       "    <tr>\n",
       "      <th>5</th>\n",
       "      <td>6</td>\n",
       "      <td>59</td>\n",
       "      <td>81</td>\n",
       "    </tr>\n",
       "  </tbody>\n",
       "</table>\n",
       "</div>"
      ],
      "text/plain": [
       "   subject  age  glucose_level\n",
       "0        1   43             99\n",
       "1        2   21             65\n",
       "2        3   25             79\n",
       "3        4   42             75\n",
       "4        5   57             87\n",
       "5        6   59             81"
      ]
     },
     "execution_count": 2,
     "metadata": {},
     "output_type": "execute_result"
    }
   ],
   "source": [
    "data = pd.read_csv('glucose.csv')\n",
    "data"
   ]
  },
  {
   "cell_type": "code",
   "execution_count": 3,
   "id": "677f69b0",
   "metadata": {},
   "outputs": [],
   "source": [
    "#extract the x independent variable and y dependent variable"
   ]
  },
  {
   "cell_type": "code",
   "execution_count": 4,
   "id": "62ead79d",
   "metadata": {},
   "outputs": [],
   "source": [
    "x = data.iloc[:,1].values\n",
    "y = data.iloc[:,2].values"
   ]
  },
  {
   "cell_type": "code",
   "execution_count": 5,
   "id": "d417ed43",
   "metadata": {},
   "outputs": [],
   "source": [
    "#find m is a slope value or coefficient and c is y-intercept\n",
    "# m = (n*summation_xy - summation_x*summation_y)/(n*summation_xsquare - summation_x_square)\n",
    "# c = (summation_y*summation_xsquare - summation_x*summation_xy)/(n*summation_xsquare - summation_x_square)"
   ]
  },
  {
   "cell_type": "code",
   "execution_count": 6,
   "id": "1700b9cc",
   "metadata": {},
   "outputs": [],
   "source": [
    "n = len(x)\n",
    "xy = x*y\n",
    "summation_xy = np.sum(xy)\n",
    "xx = x*x\n",
    "summation_xsquare = np.sum(xx)\n",
    "yy = y*y\n",
    "summation_ysquare = np.sum(yy)\n",
    "summation_x = np.sum(x)\n",
    "summation_y = np.sum(y)\n",
    "summation_x_square = (summation_x*summation_x)"
   ]
  },
  {
   "cell_type": "code",
   "execution_count": 7,
   "id": "33facd93",
   "metadata": {},
   "outputs": [
    {
     "name": "stdout",
     "output_type": "stream",
     "text": [
      "Slope Or Coefficient : 0.3852249832102082\n"
     ]
    }
   ],
   "source": [
    "m =((n*summation_xy)-(summation_x *summation_y))/((n*summation_xsquare)-summation_x_square)\n",
    "print(\"Slope Or Coefficient :\",m)"
   ]
  },
  {
   "cell_type": "code",
   "execution_count": 8,
   "id": "5e741002",
   "metadata": {},
   "outputs": [
    {
     "name": "stdout",
     "output_type": "stream",
     "text": [
      "Y-Intercept : 65.1415715245131\n"
     ]
    }
   ],
   "source": [
    "c = (((summation_y*summation_xsquare)-(summation_x*summation_xy))/((n*summation_xsquare)-(summation_x_square)))\n",
    "print(\"Y-Intercept :\",c)"
   ]
  },
  {
   "cell_type": "code",
   "execution_count": 9,
   "id": "fda74a78",
   "metadata": {},
   "outputs": [],
   "source": [
    "#y = mx+c linear regression equation\n",
    "# predicted value for y is x = 55"
   ]
  },
  {
   "cell_type": "code",
   "execution_count": 11,
   "id": "556afd27",
   "metadata": {},
   "outputs": [
    {
     "name": "stdout",
     "output_type": "stream",
     "text": [
      "x values is 3300 when y is : 86.32894560107455\n"
     ]
    }
   ],
   "source": [
    "x_pred1 = 55\n",
    "y_pred1 = (m*x_pred1)+c\n",
    "print(\"x values is 3300 when y is :\",y_pred1)"
   ]
  },
  {
   "cell_type": "markdown",
   "id": "ccb6df83",
   "metadata": {},
   "source": [
    "## Thank You"
   ]
  }
 ],
 "metadata": {
  "kernelspec": {
   "display_name": "Python 3 (ipykernel)",
   "language": "python",
   "name": "python3"
  },
  "language_info": {
   "codemirror_mode": {
    "name": "ipython",
    "version": 3
   },
   "file_extension": ".py",
   "mimetype": "text/x-python",
   "name": "python",
   "nbconvert_exporter": "python",
   "pygments_lexer": "ipython3",
   "version": "3.9.12"
  }
 },
 "nbformat": 4,
 "nbformat_minor": 5
}
