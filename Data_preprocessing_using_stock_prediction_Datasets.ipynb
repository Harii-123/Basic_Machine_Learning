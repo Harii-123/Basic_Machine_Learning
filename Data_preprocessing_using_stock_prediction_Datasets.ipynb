{
 "cells": [
  {
   "cell_type": "markdown",
   "id": "9817bf03",
   "metadata": {},
   "source": [
    "## NAME : HARII SARAVANAN A\n",
    "## DEPARTMENT : ARTIFICIAL INTELLIGENCE AND DATA SCIENCE\n",
    "## YEAR/SEMESTER/SECTION : II / III /  A"
   ]
  },
  {
   "cell_type": "markdown",
   "id": "86553140",
   "metadata": {},
   "source": [
    "# Data Preprocessing Using Stock Price Dataset "
   ]
  },
  {
   "cell_type": "markdown",
   "id": "43d96c47",
   "metadata": {},
   "source": [
    "## Steps Required:\n",
    "## 1.Getting the Dataset\n",
    "## 2.Importing libraries\n",
    "## 3.Importing Datasets\n",
    "## 4.Finding Missing Data\n",
    "## 5.Encoding Categorical Data\n",
    "## 6.Splitting datasets Into Training and Testing Set\n",
    "## 7.Feature Scaling"
   ]
  },
  {
   "cell_type": "markdown",
   "id": "f558da1e",
   "metadata": {},
   "source": [
    "## 1.Getting Datasets"
   ]
  },
  {
   "cell_type": "markdown",
   "id": "89187a6b",
   "metadata": {},
   "source": [
    "## Get the datasets for stock prrediction in kaggle and ucimlrepository"
   ]
  },
  {
   "cell_type": "code",
   "execution_count": 69,
   "id": "746579f8",
   "metadata": {},
   "outputs": [],
   "source": [
    "# stock prediction dataset with null values for preprocessing"
   ]
  },
  {
   "cell_type": "markdown",
   "id": "b11b2079",
   "metadata": {},
   "source": [
    "## Importing Libraries"
   ]
  },
  {
   "cell_type": "code",
   "execution_count": 70,
   "id": "3bdc15f4",
   "metadata": {},
   "outputs": [],
   "source": [
    "import pandas as pd\n",
    "import numpy as np\n",
    "import matplotlib.pyplot as plt"
   ]
  },
  {
   "cell_type": "markdown",
   "id": "884e583e",
   "metadata": {},
   "source": [
    "## Importing Datasets"
   ]
  },
  {
   "cell_type": "code",
   "execution_count": 71,
   "id": "a8cb7d5b",
   "metadata": {},
   "outputs": [
    {
     "data": {
      "text/html": [
       "<div>\n",
       "<style scoped>\n",
       "    .dataframe tbody tr th:only-of-type {\n",
       "        vertical-align: middle;\n",
       "    }\n",
       "\n",
       "    .dataframe tbody tr th {\n",
       "        vertical-align: top;\n",
       "    }\n",
       "\n",
       "    .dataframe thead th {\n",
       "        text-align: right;\n",
       "    }\n",
       "</style>\n",
       "<table border=\"1\" class=\"dataframe\">\n",
       "  <thead>\n",
       "    <tr style=\"text-align: right;\">\n",
       "      <th></th>\n",
       "      <th>Date</th>\n",
       "      <th>Open</th>\n",
       "      <th>High</th>\n",
       "      <th>Low</th>\n",
       "      <th>Close</th>\n",
       "      <th>Adj_Close</th>\n",
       "      <th>Volume</th>\n",
       "    </tr>\n",
       "  </thead>\n",
       "  <tbody>\n",
       "    <tr>\n",
       "      <th>0</th>\n",
       "      <td>2000/3/27</td>\n",
       "      <td>3.812500</td>\n",
       "      <td>4.156250</td>\n",
       "      <td>3.812500</td>\n",
       "      <td>4.125000</td>\n",
       "      <td>NaN</td>\n",
       "      <td>3675600.0</td>\n",
       "    </tr>\n",
       "    <tr>\n",
       "      <th>1</th>\n",
       "      <td>2000/3/28</td>\n",
       "      <td>4.125000</td>\n",
       "      <td>NaN</td>\n",
       "      <td>4.000000</td>\n",
       "      <td>4.015625</td>\n",
       "      <td>4.015625</td>\n",
       "      <td>1077600.0</td>\n",
       "    </tr>\n",
       "    <tr>\n",
       "      <th>2</th>\n",
       "      <td>2000/3/29</td>\n",
       "      <td>4.000000</td>\n",
       "      <td>4.031250</td>\n",
       "      <td>3.953125</td>\n",
       "      <td>4.000000</td>\n",
       "      <td>4.000000</td>\n",
       "      <td>437200.0</td>\n",
       "    </tr>\n",
       "    <tr>\n",
       "      <th>3</th>\n",
       "      <td>2000/3/30</td>\n",
       "      <td>NaN</td>\n",
       "      <td>4.000000</td>\n",
       "      <td>NaN</td>\n",
       "      <td>3.843750</td>\n",
       "      <td>3.843750</td>\n",
       "      <td>1883600.0</td>\n",
       "    </tr>\n",
       "    <tr>\n",
       "      <th>4</th>\n",
       "      <td>2000/3/31</td>\n",
       "      <td>3.734375</td>\n",
       "      <td>NaN</td>\n",
       "      <td>3.390625</td>\n",
       "      <td>3.390625</td>\n",
       "      <td>3.390625</td>\n",
       "      <td>7931600.0</td>\n",
       "    </tr>\n",
       "    <tr>\n",
       "      <th>...</th>\n",
       "      <td>...</td>\n",
       "      <td>...</td>\n",
       "      <td>...</td>\n",
       "      <td>...</td>\n",
       "      <td>...</td>\n",
       "      <td>...</td>\n",
       "      <td>...</td>\n",
       "    </tr>\n",
       "    <tr>\n",
       "      <th>4387</th>\n",
       "      <td>2017/9/1</td>\n",
       "      <td>113.790001</td>\n",
       "      <td>114.099998</td>\n",
       "      <td>112.790001</td>\n",
       "      <td>113.309998</td>\n",
       "      <td>113.309998</td>\n",
       "      <td>950000.0</td>\n",
       "    </tr>\n",
       "    <tr>\n",
       "      <th>4388</th>\n",
       "      <td>2017/9/5</td>\n",
       "      <td>112.519997</td>\n",
       "      <td>113.529999</td>\n",
       "      <td>111.160004</td>\n",
       "      <td>111.870003</td>\n",
       "      <td>111.870003</td>\n",
       "      <td>1805200.0</td>\n",
       "    </tr>\n",
       "    <tr>\n",
       "      <th>4389</th>\n",
       "      <td>2017/9/6</td>\n",
       "      <td>112.029999</td>\n",
       "      <td>112.489998</td>\n",
       "      <td>110.250000</td>\n",
       "      <td>112.230003</td>\n",
       "      <td>112.230003</td>\n",
       "      <td>2136700.0</td>\n",
       "    </tr>\n",
       "    <tr>\n",
       "      <th>4390</th>\n",
       "      <td>2017/9/7</td>\n",
       "      <td>112.459999</td>\n",
       "      <td>NaN</td>\n",
       "      <td>112.000000</td>\n",
       "      <td>112.339996</td>\n",
       "      <td>112.339996</td>\n",
       "      <td>NaN</td>\n",
       "    </tr>\n",
       "    <tr>\n",
       "      <th>4391</th>\n",
       "      <td>2017/9/8</td>\n",
       "      <td>112.300003</td>\n",
       "      <td>114.790001</td>\n",
       "      <td>112.010002</td>\n",
       "      <td>113.190002</td>\n",
       "      <td>113.190002</td>\n",
       "      <td>NaN</td>\n",
       "    </tr>\n",
       "  </tbody>\n",
       "</table>\n",
       "<p>4392 rows × 7 columns</p>\n",
       "</div>"
      ],
      "text/plain": [
       "           Date        Open        High         Low       Close   Adj_Close  \\\n",
       "0     2000/3/27    3.812500    4.156250    3.812500    4.125000         NaN   \n",
       "1     2000/3/28    4.125000         NaN    4.000000    4.015625    4.015625   \n",
       "2     2000/3/29    4.000000    4.031250    3.953125    4.000000    4.000000   \n",
       "3     2000/3/30         NaN    4.000000         NaN    3.843750    3.843750   \n",
       "4     2000/3/31    3.734375         NaN    3.390625    3.390625    3.390625   \n",
       "...         ...         ...         ...         ...         ...         ...   \n",
       "4387   2017/9/1  113.790001  114.099998  112.790001  113.309998  113.309998   \n",
       "4388   2017/9/5  112.519997  113.529999  111.160004  111.870003  111.870003   \n",
       "4389   2017/9/6  112.029999  112.489998  110.250000  112.230003  112.230003   \n",
       "4390   2017/9/7  112.459999         NaN  112.000000  112.339996  112.339996   \n",
       "4391   2017/9/8  112.300003  114.790001  112.010002  113.190002  113.190002   \n",
       "\n",
       "         Volume  \n",
       "0     3675600.0  \n",
       "1     1077600.0  \n",
       "2      437200.0  \n",
       "3     1883600.0  \n",
       "4     7931600.0  \n",
       "...         ...  \n",
       "4387   950000.0  \n",
       "4388  1805200.0  \n",
       "4389  2136700.0  \n",
       "4390        NaN  \n",
       "4391        NaN  \n",
       "\n",
       "[4392 rows x 7 columns]"
      ]
     },
     "execution_count": 71,
     "metadata": {},
     "output_type": "execute_result"
    }
   ],
   "source": [
    "data = pd.read_csv('Data.csv')\n",
    "data"
   ]
  },
  {
   "cell_type": "code",
   "execution_count": 72,
   "id": "9cf3a897",
   "metadata": {
    "scrolled": true
   },
   "outputs": [
    {
     "name": "stdout",
     "output_type": "stream",
     "text": [
      "<class 'pandas.core.frame.DataFrame'>\n",
      "RangeIndex: 4392 entries, 0 to 4391\n",
      "Data columns (total 7 columns):\n",
      " #   Column     Non-Null Count  Dtype  \n",
      "---  ------     --------------  -----  \n",
      " 0   Date       4392 non-null   object \n",
      " 1   Open       3953 non-null   float64\n",
      " 2   High       3959 non-null   float64\n",
      " 3   Low        3924 non-null   float64\n",
      " 4   Close      3960 non-null   float64\n",
      " 5   Adj_Close  3945 non-null   float64\n",
      " 6   Volume     3980 non-null   float64\n",
      "dtypes: float64(6), object(1)\n",
      "memory usage: 240.3+ KB\n"
     ]
    }
   ],
   "source": [
    "data.info()#in dataset have any null values or not"
   ]
  },
  {
   "cell_type": "code",
   "execution_count": 73,
   "id": "677f69b0",
   "metadata": {},
   "outputs": [],
   "source": [
    "#describe means return description of data in dataframe"
   ]
  },
  {
   "cell_type": "code",
   "execution_count": 74,
   "id": "62ead79d",
   "metadata": {},
   "outputs": [
    {
     "data": {
      "text/html": [
       "<div>\n",
       "<style scoped>\n",
       "    .dataframe tbody tr th:only-of-type {\n",
       "        vertical-align: middle;\n",
       "    }\n",
       "\n",
       "    .dataframe tbody tr th {\n",
       "        vertical-align: top;\n",
       "    }\n",
       "\n",
       "    .dataframe thead th {\n",
       "        text-align: right;\n",
       "    }\n",
       "</style>\n",
       "<table border=\"1\" class=\"dataframe\">\n",
       "  <thead>\n",
       "    <tr style=\"text-align: right;\">\n",
       "      <th></th>\n",
       "      <th>Open</th>\n",
       "      <th>High</th>\n",
       "      <th>Low</th>\n",
       "      <th>Close</th>\n",
       "      <th>Adj_Close</th>\n",
       "      <th>Volume</th>\n",
       "    </tr>\n",
       "  </thead>\n",
       "  <tbody>\n",
       "    <tr>\n",
       "      <th>count</th>\n",
       "      <td>3953.000000</td>\n",
       "      <td>3959.000000</td>\n",
       "      <td>3924.000000</td>\n",
       "      <td>3960.000000</td>\n",
       "      <td>3945.000000</td>\n",
       "      <td>3.980000e+03</td>\n",
       "    </tr>\n",
       "    <tr>\n",
       "      <th>mean</th>\n",
       "      <td>30.522811</td>\n",
       "      <td>30.830337</td>\n",
       "      <td>30.266694</td>\n",
       "      <td>30.544287</td>\n",
       "      <td>30.548548</td>\n",
       "      <td>1.891657e+06</td>\n",
       "    </tr>\n",
       "    <tr>\n",
       "      <th>std</th>\n",
       "      <td>29.769267</td>\n",
       "      <td>30.167726</td>\n",
       "      <td>29.591556</td>\n",
       "      <td>29.914408</td>\n",
       "      <td>30.014424</td>\n",
       "      <td>1.661660e+06</td>\n",
       "    </tr>\n",
       "    <tr>\n",
       "      <th>min</th>\n",
       "      <td>3.437500</td>\n",
       "      <td>3.390625</td>\n",
       "      <td>3.093750</td>\n",
       "      <td>3.250000</td>\n",
       "      <td>3.250000</td>\n",
       "      <td>1.904000e+05</td>\n",
       "    </tr>\n",
       "    <tr>\n",
       "      <th>25%</th>\n",
       "      <td>8.745000</td>\n",
       "      <td>8.825000</td>\n",
       "      <td>8.608750</td>\n",
       "      <td>8.730000</td>\n",
       "      <td>8.650000</td>\n",
       "      <td>1.087500e+06</td>\n",
       "    </tr>\n",
       "    <tr>\n",
       "      <th>50%</th>\n",
       "      <td>14.820000</td>\n",
       "      <td>14.995000</td>\n",
       "      <td>14.700000</td>\n",
       "      <td>14.765000</td>\n",
       "      <td>14.625000</td>\n",
       "      <td>1.537400e+06</td>\n",
       "    </tr>\n",
       "    <tr>\n",
       "      <th>75%</th>\n",
       "      <td>42.480000</td>\n",
       "      <td>42.929998</td>\n",
       "      <td>42.167500</td>\n",
       "      <td>42.526251</td>\n",
       "      <td>42.490002</td>\n",
       "      <td>2.184000e+06</td>\n",
       "    </tr>\n",
       "    <tr>\n",
       "      <th>max</th>\n",
       "      <td>121.080002</td>\n",
       "      <td>121.750000</td>\n",
       "      <td>120.169998</td>\n",
       "      <td>121.360001</td>\n",
       "      <td>121.360001</td>\n",
       "      <td>4.641260e+07</td>\n",
       "    </tr>\n",
       "  </tbody>\n",
       "</table>\n",
       "</div>"
      ],
      "text/plain": [
       "              Open         High          Low        Close    Adj_Close  \\\n",
       "count  3953.000000  3959.000000  3924.000000  3960.000000  3945.000000   \n",
       "mean     30.522811    30.830337    30.266694    30.544287    30.548548   \n",
       "std      29.769267    30.167726    29.591556    29.914408    30.014424   \n",
       "min       3.437500     3.390625     3.093750     3.250000     3.250000   \n",
       "25%       8.745000     8.825000     8.608750     8.730000     8.650000   \n",
       "50%      14.820000    14.995000    14.700000    14.765000    14.625000   \n",
       "75%      42.480000    42.929998    42.167500    42.526251    42.490002   \n",
       "max     121.080002   121.750000   120.169998   121.360001   121.360001   \n",
       "\n",
       "             Volume  \n",
       "count  3.980000e+03  \n",
       "mean   1.891657e+06  \n",
       "std    1.661660e+06  \n",
       "min    1.904000e+05  \n",
       "25%    1.087500e+06  \n",
       "50%    1.537400e+06  \n",
       "75%    2.184000e+06  \n",
       "max    4.641260e+07  "
      ]
     },
     "execution_count": 74,
     "metadata": {},
     "output_type": "execute_result"
    }
   ],
   "source": [
    "data.describe()"
   ]
  },
  {
   "cell_type": "markdown",
   "id": "4dcdb673",
   "metadata": {},
   "source": [
    "## Extracting the dependent and independent Variable"
   ]
  },
  {
   "cell_type": "code",
   "execution_count": 75,
   "id": "d417ed43",
   "metadata": {},
   "outputs": [],
   "source": [
    "x = data.iloc[:,0:3].values"
   ]
  },
  {
   "cell_type": "code",
   "execution_count": 76,
   "id": "1700b9cc",
   "metadata": {},
   "outputs": [
    {
     "data": {
      "text/plain": [
       "array([['2000/3/27', 3.8125, 4.15625],\n",
       "       ['2000/3/28', 4.125, nan],\n",
       "       ['2000/3/29', 4.0, 4.03125],\n",
       "       ...,\n",
       "       ['2017/9/6', 112.029999, 112.489998],\n",
       "       ['2017/9/7', 112.459999, nan],\n",
       "       ['2017/9/8', 112.300003, 114.790001]], dtype=object)"
      ]
     },
     "execution_count": 76,
     "metadata": {},
     "output_type": "execute_result"
    }
   ],
   "source": [
    "x"
   ]
  },
  {
   "cell_type": "code",
   "execution_count": 77,
   "id": "33facd93",
   "metadata": {},
   "outputs": [],
   "source": [
    "y = data['Close']"
   ]
  },
  {
   "cell_type": "code",
   "execution_count": 78,
   "id": "5e741002",
   "metadata": {},
   "outputs": [
    {
     "data": {
      "text/plain": [
       "0         4.125000\n",
       "1         4.015625\n",
       "2         4.000000\n",
       "3         3.843750\n",
       "4         3.390625\n",
       "           ...    \n",
       "4387    113.309998\n",
       "4388    111.870003\n",
       "4389    112.230003\n",
       "4390    112.339996\n",
       "4391    113.190002\n",
       "Name: Close, Length: 4392, dtype: float64"
      ]
     },
     "execution_count": 78,
     "metadata": {},
     "output_type": "execute_result"
    }
   ],
   "source": [
    "y"
   ]
  },
  {
   "cell_type": "markdown",
   "id": "847f5ff8",
   "metadata": {},
   "source": [
    "## Finding Missing Data"
   ]
  },
  {
   "cell_type": "code",
   "execution_count": 79,
   "id": "fda74a78",
   "metadata": {},
   "outputs": [],
   "source": [
    "#filling missing data with null values "
   ]
  },
  {
   "cell_type": "code",
   "execution_count": 80,
   "id": "9e166c02",
   "metadata": {},
   "outputs": [],
   "source": [
    "from sklearn.impute import SimpleImputer"
   ]
  },
  {
   "cell_type": "code",
   "execution_count": 81,
   "id": "ba6f7401",
   "metadata": {},
   "outputs": [],
   "source": [
    "#using median value fill in null values from 1st to 2nd column\n",
    "imputer  = SimpleImputer(missing_values = np.nan,strategy='median')\n",
    "imputer.fit(x[:,1:3])\n",
    "#replace missing data with calculate median value\n",
    "x[:,1:3] = imputer.transform(x[:,1:3])"
   ]
  },
  {
   "cell_type": "markdown",
   "id": "6fc75a56",
   "metadata": {},
   "source": [
    "## Encoding Categorical Data"
   ]
  },
  {
   "cell_type": "code",
   "execution_count": 82,
   "id": "baeade6c",
   "metadata": {},
   "outputs": [],
   "source": [
    "# We will convert date values into catgorical data.using labelencoder"
   ]
  },
  {
   "cell_type": "code",
   "execution_count": 83,
   "id": "a87f59ee",
   "metadata": {},
   "outputs": [],
   "source": [
    "# import labelencoder using sckit-learn library\n",
    "from sklearn.preprocessing import LabelEncoder\n",
    "le = LabelEncoder()\n",
    "x[:,0] = le.fit_transform(x[:,0])"
   ]
  },
  {
   "cell_type": "markdown",
   "id": "da61ecd8",
   "metadata": {},
   "source": [
    "## Splitting dataset into training and testing sets"
   ]
  },
  {
   "cell_type": "code",
   "execution_count": 84,
   "id": "61937288",
   "metadata": {},
   "outputs": [],
   "source": [
    "#splitting into training and testing data"
   ]
  },
  {
   "cell_type": "code",
   "execution_count": 85,
   "id": "03fb810a",
   "metadata": {},
   "outputs": [],
   "source": [
    "from sklearn.model_selection import train_test_split\n",
    "x_train,x_test,y_train,y_test=train_test_split(x,y,test_size=0.4,random_state=1)"
   ]
  },
  {
   "cell_type": "code",
   "execution_count": 86,
   "id": "e151f379",
   "metadata": {},
   "outputs": [],
   "source": [
    "#testsize means size of test data may be in 0.5,0.3,0.2 dividing ratio of training and testing sets"
   ]
  },
  {
   "cell_type": "code",
   "execution_count": 87,
   "id": "7dd18723",
   "metadata": {},
   "outputs": [
    {
     "name": "stdout",
     "output_type": "stream",
     "text": [
      "[[1607 10.9675 11.025]\n",
      " [1564 11.215 11.2875]\n",
      " [567 6.8525 6.895]\n",
      " ...\n",
      " [752 7.2625 7.2775]\n",
      " [3975 78.790001 79.779999]\n",
      " [305 5.3075 14.995]]\n",
      "[[3827 74.894997 75.205002]\n",
      " [3109 42.110001 42.360001]\n",
      " [577 6.775 6.775]\n",
      " ...\n",
      " [3842 70.995003 72.934998]\n",
      " [2458 22.75 22.950001]\n",
      " [2318 15.2925 15.5175]]\n"
     ]
    }
   ],
   "source": [
    "print(x_train)\n",
    "print(x_test)"
   ]
  },
  {
   "cell_type": "code",
   "execution_count": 88,
   "id": "97eb354d",
   "metadata": {},
   "outputs": [
    {
     "name": "stdout",
     "output_type": "stream",
     "text": [
      "1549    10.987500\n",
      "1506    11.205000\n",
      "509      6.765000\n",
      "3290    32.084999\n",
      "3949    80.394997\n",
      "          ...    \n",
      "2895    37.935001\n",
      "2763    43.310001\n",
      "905      7.270000\n",
      "3980    78.839996\n",
      "235      5.062500\n",
      "Name: Close, Length: 2635, dtype: float64\n",
      "3768     73.385002\n",
      "3053     41.685001\n",
      "518       6.702500\n",
      "2772     42.740002\n",
      "2500     24.195000\n",
      "           ...    \n",
      "4315    114.089996\n",
      "1857     11.775000\n",
      "3783     71.550003\n",
      "2463     22.937500\n",
      "2259     15.475000\n",
      "Name: Close, Length: 1757, dtype: float64\n"
     ]
    }
   ],
   "source": [
    "print(y_train)\n",
    "print(y_test)"
   ]
  },
  {
   "cell_type": "markdown",
   "id": "c19a22ba",
   "metadata": {},
   "source": [
    "## Feature Scaling"
   ]
  },
  {
   "cell_type": "code",
   "execution_count": 89,
   "id": "8bcb24e0",
   "metadata": {},
   "outputs": [],
   "source": [
    "#feature scaling\n",
    "# rescale values between -1 and 1"
   ]
  },
  {
   "cell_type": "code",
   "execution_count": 90,
   "id": "b63f98e7",
   "metadata": {},
   "outputs": [],
   "source": [
    "#standardscalar for independent or features variable\n",
    "#technique standard independent variable in specific range"
   ]
  },
  {
   "cell_type": "code",
   "execution_count": 91,
   "id": "6f54e612",
   "metadata": {},
   "outputs": [],
   "source": [
    "from sklearn.preprocessing import StandardScaler\n",
    "sc = StandardScaler()\n",
    "x_train[:,:] = sc.fit_transform(x_train[:,:])\n",
    "x_test[:,:] = sc.fit_transform(x_test[:,:])"
   ]
  },
  {
   "cell_type": "code",
   "execution_count": 92,
   "id": "ab49dadf",
   "metadata": {},
   "outputs": [
    {
     "name": "stdout",
     "output_type": "stream",
     "text": [
      "X_train:\n",
      "\n",
      " [[-0.4660504508059631 -0.6256605485316984 -0.6233593080840402]\n",
      " [-0.49989499357936346 -0.6170871925492674 -0.614378152019488]\n",
      " [-1.2846161364882054 -0.7682034166840371 -0.7646628301663266]\n",
      " ...\n",
      " [-1.1390058943235757 -0.75400108960203 -0.7515760027579793]\n",
      " [1.3977606489012964 1.723698823960369 1.7290192680573857]\n",
      " [-1.490831722688924 -0.8217219419076977 -0.48753001446014727]]\n",
      "X_test:\n",
      "\n",
      " [[1.295196083860797 1.6294227956521974 1.5982717932055128]\n",
      " [0.7270912281837155 0.4695155837526536 0.4545549356950777]\n",
      " [-1.2763091820869954 -0.7806087869313502 -0.7845732201611421]\n",
      " ...\n",
      " [1.307064569703633 1.4914440944510456 1.5192265271872192]\n",
      " [0.21199894260463462 -0.21542592980685302 -0.22133313032378302]\n",
      " [0.10122640807149895 -0.4792663778197442 -0.48014501731879844]]\n"
     ]
    }
   ],
   "source": [
    "print(\"X_train:\\n\\n\",x_train)\n",
    "print(\"X_test:\\n\\n\",x_test)"
   ]
  },
  {
   "cell_type": "markdown",
   "id": "47929066",
   "metadata": {},
   "source": [
    "# Thank You"
   ]
  }
 ],
 "metadata": {
  "kernelspec": {
   "display_name": "Python 3 (ipykernel)",
   "language": "python",
   "name": "python3"
  },
  "language_info": {
   "codemirror_mode": {
    "name": "ipython",
    "version": 3
   },
   "file_extension": ".py",
   "mimetype": "text/x-python",
   "name": "python",
   "nbconvert_exporter": "python",
   "pygments_lexer": "ipython3",
   "version": "3.9.12"
  }
 },
 "nbformat": 4,
 "nbformat_minor": 5
}
