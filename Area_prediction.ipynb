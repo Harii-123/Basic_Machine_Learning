{
 "cells": [
  {
   "cell_type": "markdown",
   "id": "e6a30d40",
   "metadata": {},
   "source": [
    "# Basic Machine Learning Assignment - II"
   ]
  },
  {
   "cell_type": "markdown",
   "id": "9817bf03",
   "metadata": {},
   "source": [
    "## NAME : HARII SARAVANAN A\n",
    "## DEPARTMENT : ARTIFICIAL INTELLIGENCE AND DATA SCIENCE\n",
    "## YEAR/SEMESTER/SECTION : II / III /  A"
   ]
  },
  {
   "cell_type": "markdown",
   "id": "86553140",
   "metadata": {},
   "source": [
    "# Linear Regression Using Area Prediction Dataset "
   ]
  },
  {
   "cell_type": "markdown",
   "id": "b11b2079",
   "metadata": {},
   "source": [
    "## Importing Libraries"
   ]
  },
  {
   "cell_type": "code",
   "execution_count": 1,
   "id": "3bdc15f4",
   "metadata": {},
   "outputs": [],
   "source": [
    "import pandas as pd\n",
    "import numpy as np\n",
    "import matplotlib.pyplot as plt"
   ]
  },
  {
   "cell_type": "markdown",
   "id": "884e583e",
   "metadata": {},
   "source": [
    "## Importing Datasets"
   ]
  },
  {
   "cell_type": "code",
   "execution_count": 79,
   "id": "a8cb7d5b",
   "metadata": {},
   "outputs": [
    {
     "data": {
      "text/html": [
       "<div>\n",
       "<style scoped>\n",
       "    .dataframe tbody tr th:only-of-type {\n",
       "        vertical-align: middle;\n",
       "    }\n",
       "\n",
       "    .dataframe tbody tr th {\n",
       "        vertical-align: top;\n",
       "    }\n",
       "\n",
       "    .dataframe thead th {\n",
       "        text-align: right;\n",
       "    }\n",
       "</style>\n",
       "<table border=\"1\" class=\"dataframe\">\n",
       "  <thead>\n",
       "    <tr style=\"text-align: right;\">\n",
       "      <th></th>\n",
       "      <th>Area</th>\n",
       "      <th>Price</th>\n",
       "    </tr>\n",
       "  </thead>\n",
       "  <tbody>\n",
       "    <tr>\n",
       "      <th>0</th>\n",
       "      <td>2600</td>\n",
       "      <td>550000</td>\n",
       "    </tr>\n",
       "    <tr>\n",
       "      <th>1</th>\n",
       "      <td>3000</td>\n",
       "      <td>565000</td>\n",
       "    </tr>\n",
       "    <tr>\n",
       "      <th>2</th>\n",
       "      <td>3200</td>\n",
       "      <td>610000</td>\n",
       "    </tr>\n",
       "    <tr>\n",
       "      <th>3</th>\n",
       "      <td>3600</td>\n",
       "      <td>680000</td>\n",
       "    </tr>\n",
       "    <tr>\n",
       "      <th>4</th>\n",
       "      <td>4000</td>\n",
       "      <td>725000</td>\n",
       "    </tr>\n",
       "  </tbody>\n",
       "</table>\n",
       "</div>"
      ],
      "text/plain": [
       "   Area   Price\n",
       "0  2600  550000\n",
       "1  3000  565000\n",
       "2  3200  610000\n",
       "3  3600  680000\n",
       "4  4000  725000"
      ]
     },
     "execution_count": 79,
     "metadata": {},
     "output_type": "execute_result"
    }
   ],
   "source": [
    "data = pd.read_csv('area_prediction.csv')\n",
    "data"
   ]
  },
  {
   "cell_type": "code",
   "execution_count": 81,
   "id": "677f69b0",
   "metadata": {},
   "outputs": [],
   "source": [
    "#extract the x independent variable and y dependent variable"
   ]
  },
  {
   "cell_type": "code",
   "execution_count": 82,
   "id": "62ead79d",
   "metadata": {},
   "outputs": [],
   "source": [
    "x = data.iloc[:,0].values\n",
    "y = data.iloc[:,1].values"
   ]
  },
  {
   "cell_type": "code",
   "execution_count": 83,
   "id": "d417ed43",
   "metadata": {},
   "outputs": [],
   "source": [
    "#find m is a slope value or coefficient and c is y-intercept\n",
    "# m = (n*summation_xy - summation_x*summation_y)/(n*summation_xsquare - summation_x_square)\n",
    "# c = (summation_y*summation_xsquare - summation_x*summation_xy)/(n*summation_xsquare - summation_x_square)"
   ]
  },
  {
   "cell_type": "code",
   "execution_count": 84,
   "id": "1700b9cc",
   "metadata": {},
   "outputs": [],
   "source": [
    "n = len(x)\n",
    "xy = x*y\n",
    "summation_xy = np.sum(xy)\n",
    "xx = x*x\n",
    "summation_xsquare = np.sum(xx)\n",
    "yy = y*y\n",
    "summation_ysquare = np.sum(yy)\n",
    "summation_x = np.sum(x)\n",
    "summation_y = np.sum(y)\n",
    "summation_x_square = (summation_x*summation_x)"
   ]
  },
  {
   "cell_type": "code",
   "execution_count": 86,
   "id": "33facd93",
   "metadata": {},
   "outputs": [
    {
     "name": "stdout",
     "output_type": "stream",
     "text": [
      "Slope Or Coefficient : 135.7876712328767\n"
     ]
    }
   ],
   "source": [
    "m =((n*summation_xy)-(summation_x *summation_y))/((n*summation_xsquare)-summation_x_square)\n",
    "print(\"Slope Or Coefficient :\",m)"
   ]
  },
  {
   "cell_type": "code",
   "execution_count": 87,
   "id": "5e741002",
   "metadata": {},
   "outputs": [
    {
     "name": "stdout",
     "output_type": "stream",
     "text": [
      "Y-Intercept : 172024770724315.06\n"
     ]
    }
   ],
   "source": [
    "c = (((summation_y*summation_xsquare))-(summation_x*summation_xy)/((n*summation_xsquare)-(summation_x_square)))\n",
    "print(\"Y-Intercept :\",c)"
   ]
  },
  {
   "cell_type": "code",
   "execution_count": 88,
   "id": "fda74a78",
   "metadata": {},
   "outputs": [],
   "source": [
    "#y = mx+c linear regression equation\n",
    "# predicted value for y is x = 3300 and 5000"
   ]
  },
  {
   "cell_type": "code",
   "execution_count": 90,
   "id": "556afd27",
   "metadata": {},
   "outputs": [
    {
     "name": "stdout",
     "output_type": "stream",
     "text": [
      "x values is 3300 when y is : 172024771172414.38 \n",
      " x values is 5000 when y is : 172024770724315.06\n"
     ]
    }
   ],
   "source": [
    "x_pred1 = 3300\n",
    "y_pred1 = (m*x_pred1)+c\n",
    "x_pred2 = 5000\n",
    "y_pred2 = (m*x_pred2)+c\n",
    "print(\"x values is 3300 when y is :\",y_pred1,\"\\n\",\"x values is 5000 when y is :\",c)\n"
   ]
  },
  {
   "cell_type": "markdown",
   "id": "ccb6df83",
   "metadata": {},
   "source": [
    "## Thank You"
   ]
  }
 ],
 "metadata": {
  "kernelspec": {
   "display_name": "Python 3 (ipykernel)",
   "language": "python",
   "name": "python3"
  },
  "language_info": {
   "codemirror_mode": {
    "name": "ipython",
    "version": 3
   },
   "file_extension": ".py",
   "mimetype": "text/x-python",
   "name": "python",
   "nbconvert_exporter": "python",
   "pygments_lexer": "ipython3",
   "version": "3.9.12"
  }
 },
 "nbformat": 4,
 "nbformat_minor": 5
}
